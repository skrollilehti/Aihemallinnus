{
 "cells": [
  {
   "cell_type": "markdown",
   "metadata": {},
   "source": [
    "### Aihemallinnusta: suomenkielisen demoskene-Wikipedia-sivun mallintaminen aiheisiin\n",
    "\n",
    "Vaihtoehtototeutus: Tämä versio käyttää Tmtoolkit-kirjaston sisäistä Corpus-luokkaa ja sitä käyttäen saadaan dokumentti-termi-matriisi (koodissa dtm_) korpuksesta.\n",
    "\n",
    "Tmtoolkit-kirjasto tarvitsee toimiakseen lda-kirjaston kanssa Python-version 3.8-3.10.\n",
    "\n",
    "Aiheiden määrän määrittämiseen on käytetty tmtoolkit-kirjaston coherence_mimno_2011-metriikkaa.\n",
    "Toteutusta varten kirjasto asennetaan seuraavasti:\n",
    "\n",
    "pip install -U \"tmtoolkit[recommended,lda]\"\n",
    "\n",
    "Huomaa, että yo. ei asenna lda-kirjastoa, joka on asennettava erikseen:\n",
    "\n",
    "pip install -U lda\n",
    "\n",
    "Tarvitaan myös spaCy:\n",
    "\n",
    "pip install -U spacy\n",
    "\n",
    "Tmtoolkit näyttää käyttävän itse pienintä spaCyn kielimallia:\n",
    "\n",
    "python -m spacy download fi_core_news_sm\n",
    "\n",
    "Lisää tietoa tmtoolkit-kirjaston verkkosivuilta:\n",
    "https://tmtoolkit.readthedocs.io/en/latest/install.html"
   ]
  },
  {
   "cell_type": "code",
   "execution_count": 1,
   "metadata": {},
   "outputs": [],
   "source": [
    "import wikipediaapi # pip install -U wikipedia-api"
   ]
  },
  {
   "cell_type": "markdown",
   "metadata": {},
   "source": [
    "### Wikipedia-sivu noudettu 1.2.2024\n",
    "- huomaa, että sivu on voinut muuttua ajankohdan jälkeen"
   ]
  },
  {
   "cell_type": "code",
   "execution_count": 2,
   "metadata": {},
   "outputs": [],
   "source": [
    "wiki_html = wikipediaapi.Wikipedia(\n",
    "    user_agent='Aihemallinnusjuttu',\n",
    "    language='fi',\n",
    "    extract_format=wikipediaapi.ExtractFormat.HTML\n",
    ")"
   ]
  },
  {
   "cell_type": "code",
   "execution_count": 3,
   "metadata": {},
   "outputs": [],
   "source": [
    "page_py = wiki_html.page(\"Demoskene\")\n",
    "p_html = page_py.text"
   ]
  },
  {
   "cell_type": "markdown",
   "metadata": {},
   "source": [
    "pip3 install BeautifulSoup4"
   ]
  },
  {
   "cell_type": "code",
   "execution_count": 4,
   "metadata": {},
   "outputs": [],
   "source": [
    "from bs4 import BeautifulSoup"
   ]
  },
  {
   "cell_type": "code",
   "execution_count": 5,
   "metadata": {},
   "outputs": [],
   "source": [
    "html = BeautifulSoup(p_html, 'html.parser')\n",
    "\n",
    "paragraphs = html.select(\"p, h2\")\n",
    "\n",
    "h2_found = False\n",
    "\n",
    "kappaleet = {}\n",
    "\n",
    "index = 0\n",
    "\n",
    "for para in paragraphs:\n",
    "    \n",
    "    # Jotta Wikipedia-sivun yhteenveto ei tule mukaan, tarkastellaan,\n",
    "    # milloin kohdataan ensimmäinen h2-tagi, sen jälkeen poimitaan\n",
    "    # p-tagien eli kappaleiden sisältö\n",
    "    if \"<h2>\" in str(para): h2_found = True\n",
    "\n",
    "    if h2_found:\n",
    "        \n",
    "        if \"<p>\" in str(para):\n",
    "\n",
    "            content = str(para.text)\n",
    "\n",
    "            # autetaan SentenceSplitteriä jakamaan kappaleet virkkeisiin paremmin\n",
    "            # mainittu osaa jakaa paremmin virkkeisiin kuin spaCy\n",
    "            if \"tuotokset.Tyyliltään\" in content:\n",
    "                content = content.replace(\"tuotokset.Tyyliltään\", \"tuotokset. Tyyliltään\")\n",
    "            # Poistetaan Wikipedia-sivun \"lähde?\"-ilmaisut\n",
    "            if \"lähde?\" in content:\n",
    "                content = content.replace(\"lähde?\",\"\")\n",
    "\n",
    "\n",
    "            # Viimeisessä kappaleessa tiedetään (1.2.2024) olevan ei-tulostettava unicode-koodi,\n",
    "            # eikä asiasisältöä\n",
    "            if \"\\xa0\" not in content:\n",
    "                kappaleet[index] = content.replace(\"\\n\", \" \")\n",
    "                index += 1"
   ]
  },
  {
   "cell_type": "markdown",
   "metadata": {},
   "source": [
    "pip install sentence-splitter"
   ]
  },
  {
   "cell_type": "code",
   "execution_count": 6,
   "metadata": {},
   "outputs": [],
   "source": [
    "from sentence_splitter import SentenceSplitter"
   ]
  },
  {
   "cell_type": "code",
   "execution_count": 7,
   "metadata": {},
   "outputs": [],
   "source": [
    "# vaikuttaa osavan suomen kielen...\n",
    "splitter = SentenceSplitter(language=\"fi\")"
   ]
  },
  {
   "cell_type": "markdown",
   "metadata": {},
   "source": [
    "### Luodaan korpus"
   ]
  },
  {
   "cell_type": "code",
   "execution_count": 8,
   "metadata": {},
   "outputs": [
    {
     "name": "stdout",
     "output_type": "stream",
     "text": [
      "42\n"
     ]
    }
   ],
   "source": [
    "korpus = []\n",
    "\n",
    "for kpl in kappaleet.values():\n",
    "    korpus.append(kpl.strip())\n",
    "print(len(korpus))"
   ]
  },
  {
   "cell_type": "code",
   "execution_count": 9,
   "metadata": {},
   "outputs": [],
   "source": [
    "import matplotlib.pylab as plt\n",
    "import numpy as np"
   ]
  },
  {
   "cell_type": "markdown",
   "metadata": {},
   "source": [
    "Toteutuksessa on dokumenttiyksikkönä yksi kappale HTML-koodista poimittuna. Kuviossa on virkemäärien jakaumat aihemllinnuksen dokumenttiyksikköä kohden."
   ]
  },
  {
   "cell_type": "code",
   "execution_count": 10,
   "metadata": {},
   "outputs": [
    {
     "data": {
      "image/png": "[encoded data removed]",
      "text/plain": [
       "<Figure size 700x600 with 1 Axes>"
      ]
     },
     "metadata": {},
     "output_type": "display_data"
    }
   ],
   "source": [
    "values = [len(splitter.split(kpl)) for kpl in kappaleet.values()]\n",
    "plt.figure(figsize=(7, 6))\n",
    "\n",
    "fig = plt.bar(np.arange(1, len(values) + 1), values)\n",
    "plt.xlabel(\"Dokumenttiyksikkö (kappale)\", size=13)\n",
    "plt.ylabel(\"Virkkeiden lukumäärä\", size=13)\n",
    "plt.show()"
   ]
  },
  {
   "cell_type": "markdown",
   "metadata": {},
   "source": [
    "### Luodaan korpus"
   ]
  },
  {
   "cell_type": "code",
   "execution_count": 11,
   "metadata": {},
   "outputs": [
    {
     "name": "stdout",
     "output_type": "stream",
     "text": [
      "WARNING:tensorflow:From c:\\Users\\marju\\anaconda3\\envs\\Py310\\lib\\site-packages\\keras\\src\\losses.py:2976: The name tf.losses.sparse_softmax_cross_entropy is deprecated. Please use tf.compat.v1.losses.sparse_softmax_cross_entropy instead.\n",
      "\n"
     ]
    }
   ],
   "source": [
    "from tmtoolkit.corpus import dtm\n",
    "from tmtoolkit.corpus import Corpus, print_summary"
   ]
  },
  {
   "cell_type": "markdown",
   "metadata": {},
   "source": [
    "Luodaan korpus käyttäen Tmtoolkit-kirjaston Corpus-luokkaa"
   ]
  },
  {
   "cell_type": "code",
   "execution_count": 12,
   "metadata": {},
   "outputs": [
    {
     "name": "stdout",
     "output_type": "stream",
     "text": [
      "Corpus with 42 documents in Finnish\n",
      "> dok_13 (50 tokens): Demoja luodaan myös yhä useille vanhoille laitealu...\n",
      "> dok_0 (83 tokens): Demoskenen juuret ovat 1980-luvun edullisten mikro...\n",
      "> dok_12 (115 tokens): Laitetehon huima parantuminen sekä 3D-grafiikkakii...\n",
      "> dok_14 (82 tokens): Aiemmin demoskene jakautui käytetyn laitteiston mu...\n",
      "> dok_10 (48 tokens): 1990-luvun puolivälin tienoilla PC-demot alkoivat ...\n",
      "> dok_11 (59 tokens): PC-koneilla suurin mullistus nähtiin 1990-luvun lo...\n",
      "> dok_1 (67 tokens): Demoskene alkoi syntyä niihin aikoihin , kun osa p...\n",
      "> dok_16 (129 tokens): Mitään selkeitä kriteereitä parhaiden demojen vali...\n",
      "> dok_15 (93 tokens): Demoskene on hyvin kilpailuhenkinen alakulttuuri ,...\n",
      "> dok_17 (77 tokens): Vuosina 2003-2012 järjestettiin Scene.org Awards ,...\n",
      "(and 32 more documents)\n",
      "total number of tokens: 2721 / vocabulary size: 1613\n"
     ]
    }
   ],
   "source": [
    "crp = Corpus({f\"dok_{i}\": str(kpl) for i, kpl in enumerate(kappaleet.values()) if len(str(kpl)) > 0}, \"fi\")\n",
    "print_summary(crp)"
   ]
  },
  {
   "cell_type": "code",
   "execution_count": 13,
   "metadata": {},
   "outputs": [],
   "source": [
    "from tmtoolkit.topicmod.tm_lda import evaluate_topic_models\n",
    "from tmtoolkit.topicmod.evaluate import results_by_parameter"
   ]
  },
  {
   "cell_type": "code",
   "execution_count": 14,
   "metadata": {},
   "outputs": [],
   "source": [
    "from tmtoolkit.corpus import lemmatize, to_lowercase, remove_punctuation, filter_clean_tokens, remove_common_tokens, remove_uncommon_tokens"
   ]
  },
  {
   "cell_type": "markdown",
   "metadata": {},
   "source": [
    "Karsitaan aihemallinnusta varten korpuksesta ei-haluttu informaatio pois ja lemmataan korpus"
   ]
  },
  {
   "cell_type": "code",
   "execution_count": 15,
   "metadata": {},
   "outputs": [
    {
     "name": "stdout",
     "output_type": "stream",
     "text": [
      "Corpus with 42 documents in Finnish\n",
      "> dok_13 (3 tokens): luoda Commodore käyttö\n",
      "> dok_0 (12 tokens): 1980luku Demoskene peli ohjelma peli alkaa peli nä...\n",
      "> dok_12 (14 tokens): tapahtua puoli ohjelmoija käyttää aika muu nykyään...\n",
      "> dok_14 (14 tokens): demoskene laitteisto erilainen laite demo laite de...\n",
      "> dok_10 (9 tokens): 1990luku puoliväli alkaa Amiga demo PC vuosi kehit...\n",
      "> dok_11 (12 tokens): nähdä 1990luku siirtyä aika aika suuri tapahtuma t...\n",
      "> dok_1 (8 tokens): Demoskene alkaa syntyä aika alkaa varhainen olla r...\n",
      "> dok_16 (16 tokens): demo demo tuotos suuri pyrkiä suuri yleisö kuulua ...\n",
      "> dok_15 (10 tokens): Demoskene demo ryhmä kuulua yleisö usea erillinen ...\n",
      "> dok_17 (11 tokens): järjestää pyrkiä olla tapa jakaa jakaa vuosi vuosi...\n",
      "(and 32 more documents)\n",
      "total number of tokens: 397 / vocabulary size: 72\n"
     ]
    }
   ],
   "source": [
    "# Jos ei ole asetettu remove_shorter_than=4, tulee englanninkielinen sana \"the\" mukaan aiheita karakterisoivaksi sanaksi,\n",
    "# koska haetaan vain suomenkielen stop wordeja\n",
    "\n",
    "filter_clean_tokens(crp, remove_numbers=True, remove_stopwords=True, remove_shorter_than=4)\n",
    "remove_punctuation(crp)\n",
    "to_lowercase(crp)\n",
    "lemmatize(crp)\n",
    "remove_common_tokens(crp, df_threshold=0.85)\n",
    "remove_uncommon_tokens(crp, df_threshold=0.05)\n",
    "print_summary(crp)"
   ]
  },
  {
   "cell_type": "markdown",
   "metadata": {},
   "source": [
    "Luodaan korpuksesta dokumentti-termi-matriisi"
   ]
  },
  {
   "cell_type": "code",
   "execution_count": 16,
   "metadata": {},
   "outputs": [],
   "source": [
    "dtm_, doc_labels_, vocab_ = dtm(crp, return_doc_labels=True, return_vocab=True)"
   ]
  },
  {
   "cell_type": "markdown",
   "metadata": {},
   "source": [
    "Riippuen tmtoolkit-kirjaston asennuksesta metriikoita voi olla enemmänkin"
   ]
  },
  {
   "cell_type": "code",
   "execution_count": 17,
   "metadata": {},
   "outputs": [
    {
     "data": {
      "text/plain": [
       "('loglikelihood', 'cao_juan_2009', 'arun_2010', 'coherence_mimno_2011')"
      ]
     },
     "execution_count": 17,
     "metadata": {},
     "output_type": "execute_result"
    }
   ],
   "source": [
    "import tmtoolkit.topicmod.tm_lda\n",
    "tmtoolkit.topicmod.tm_lda.AVAILABLE_METRICS"
   ]
  },
  {
   "cell_type": "code",
   "execution_count": 18,
   "metadata": {},
   "outputs": [],
   "source": [
    "# Aihemallin evaluointifunktio\n",
    "def evaluate(X, ts, te):\n",
    "\n",
    "    const_params = {\n",
    "        'n_iter': 1000,\n",
    "        'random_state': 42,  # tulokset ovat toistettavissa\n",
    "        'eta': 0.1,          # joskus käytetään nimitystä \"beta\", muistelen lukeneeni, että tämän suositellaan olevan \"pieni\" arvo\n",
    "    }\n",
    "\n",
    "    # iteroidaan LDA-mallia eri määrillä aiheita\n",
    "    var_params = [{'n_topics': k, 'alpha': 1/(10**k)}\n",
    "                for k in range(ts, te)]\n",
    "            \n",
    "    return evaluate_topic_models(X, varying_parameters=var_params,\n",
    "                                     constant_parameters=const_params,\n",
    "                                     coherence_mimno_2011_top_n=5,\n",
    "                                     coherence_mimno_2011_include_prob=True,\n",
    "                                     return_models=True)"
   ]
  },
  {
   "cell_type": "code",
   "execution_count": 19,
   "metadata": {},
   "outputs": [
    {
     "data": {
      "text/plain": [
       "(2, 42)"
      ]
     },
     "execution_count": 19,
     "metadata": {},
     "output_type": "execute_result"
    }
   ],
   "source": [
    "ts = 2                      # aiheita pyritään samaan vähintään 2\n",
    "te = len(kappaleet)         # maksimi määrä aiheille on korpukseen niputettujen virkeryppäiden määrä\n",
    "                            # tässä tiedetään, että yksi kappaleista on tyhjä, joka ei ole mukana, siksi ei + 1:tä\n",
    "ts, te"
   ]
  },
  {
   "cell_type": "markdown",
   "metadata": {},
   "source": [
    "Määritetään dokumentti-termi-matriisista aiheet ja luetaan aihemallinnuksen tulokset"
   ]
  },
  {
   "cell_type": "code",
   "execution_count": 20,
   "metadata": {},
   "outputs": [],
   "source": [
    "tulokset = evaluate(dtm_, ts, te)\n",
    "eval_results_by_topics = results_by_parameter(tulokset, 'n_topics')"
   ]
  },
  {
   "cell_type": "code",
   "execution_count": 21,
   "metadata": {},
   "outputs": [],
   "source": [
    "# kerätään koherenssitulokset\n",
    "koherenssi = []\n",
    "for i in range(len(eval_results_by_topics)):\n",
    "    koherenssi.append(eval_results_by_topics[i][1][\"coherence_mimno_2011\"])"
   ]
  },
  {
   "cell_type": "markdown",
   "metadata": {},
   "source": [
    "Koherennsin tulee olla mahdollisimman suuri"
   ]
  },
  {
   "cell_type": "code",
   "execution_count": 22,
   "metadata": {},
   "outputs": [],
   "source": [
    "parhaan_mallin_indeksi = np.argmax(koherenssi)\n",
    "paras_Mimno_LDA = eval_results_by_topics[parhaan_mallin_indeksi][1][\"model\"]"
   ]
  },
  {
   "cell_type": "markdown",
   "metadata": {},
   "source": [
    "Alla olevassa taulukossa itse taulukon indeksi kertoo ko. indeksiä edustavan aiheeseen liittyvän dokumenttiyksikön indeksin"
   ]
  },
  {
   "cell_type": "code",
   "execution_count": 23,
   "metadata": {},
   "outputs": [
    {
     "name": "stdout",
     "output_type": "stream",
     "text": [
      "Aiheet: [8, 0, 8, 1, 1, 6, 14, 10, 3, 2, 16, 7, 4, 7, 9, 11, 5, 13, 13, 1, 9, 6, 0, 4, 10, 13, 6, 9, 0, 14, 12, 16, 4, 8, 13, 2, 4, 3, 15, 3, 8, 5]\n",
      "Aiheiden määrä: 17\n"
     ]
    }
   ],
   "source": [
    "topic_nums = []\n",
    "\n",
    "topic_results = paras_Mimno_LDA.transform(dtm_)\n",
    "for topic_dist in topic_results:\n",
    "    topic_num = topic_dist.argmax()\n",
    "    topic_nums.append(topic_num)\n",
    "print(\"Aiheet:\", topic_nums)\n",
    "print(\"Aiheiden määrä:\", paras_Mimno_LDA.n_topics)"
   ]
  },
  {
   "cell_type": "markdown",
   "metadata": {},
   "source": [
    "Piirretään graafi koherenssista suhteessa aiheiden määrään"
   ]
  },
  {
   "cell_type": "code",
   "execution_count": 24,
   "metadata": {},
   "outputs": [
    {
     "data": {
      "image/png": "[encoded data removed]",
      "text/plain": [
       "<Figure size 800x600 with 1 Axes>"
      ]
     },
     "metadata": {},
     "output_type": "display_data"
    }
   ],
   "source": [
    "xs = np.arange(2,len(koherenssi)+2)\n",
    "\n",
    "plt.figure(figsize=(8, 6))\n",
    "fig = plt.plot(xs,koherenssi)\n",
    "plt.xlim(2,len(koherenssi)+2)\n",
    "plt.xlabel(\"Aiheiden lukumäärä\", size=13)\n",
    "plt.ylabel(\"Koherenssi\", size=13)\n",
    "plt.show()"
   ]
  },
  {
   "cell_type": "code",
   "execution_count": 25,
   "metadata": {},
   "outputs": [],
   "source": [
    "from tmtoolkit.topicmod.model_stats import generate_topic_labels_from_top_words"
   ]
  },
  {
   "cell_type": "code",
   "execution_count": 26,
   "metadata": {},
   "outputs": [],
   "source": [
    "from tmtoolkit.topicmod.model_io import print_ldamodel_topic_words, doc_lengths"
   ]
  },
  {
   "cell_type": "markdown",
   "metadata": {},
   "source": [
    "Tulostetaan Tmtoolkit-kirjaston sisäisillä metodeilla aihesanat"
   ]
  },
  {
   "cell_type": "code",
   "execution_count": 27,
   "metadata": {},
   "outputs": [
    {
     "name": "stdout",
     "output_type": "stream",
     "text": [
      "topic_1\n",
      "> #1. ryhmä (0.153614)\n",
      "> #2. jäsen (0.093373)\n",
      "> #3. alkaa (0.063253)\n",
      "> #4. suomalainen (0.063253)\n",
      "> #5. Future (0.033133)\n",
      "> #6. pelkästään (0.033133)\n",
      "> #7. demoryhmi (0.033133)\n",
      "> #8. demo (0.033133)\n",
      "> #9. aika (0.033133)\n",
      "> #10. sarka (0.033133)\n",
      "> #11. syntyä (0.033133)\n",
      "topic_2\n",
      "> #1. aika (0.077114)\n",
      "> #2. 1990luku (0.077114)\n",
      "> #3. käyttää (0.077114)\n",
      "> #4. laitteisto (0.052239)\n",
      "> #5. ohjelmoija (0.052239)\n",
      "> #6. demo (0.052239)\n",
      "> #7. puoli (0.052239)\n",
      "> #8. toinen (0.027363)\n",
      "> #9. puoliväli (0.027363)\n",
      "> #10. jäsen (0.027363)\n",
      "> #11. järjestää (0.027363)\n",
      "topic_3\n",
      "> #1. vuosi (0.176724)\n",
      "> #2. jakaa (0.133621)\n",
      "> #3. järjestää (0.090517)\n",
      "> #4. yleisö (0.047414)\n",
      "> #5. tapahtuma (0.047414)\n",
      "> #6. olla (0.047414)\n",
      "> #7. demoskenen (0.047414)\n",
      "> #8. demoryhmi (0.047414)\n",
      "> #9. tapa (0.047414)\n",
      "> #10. pyrkiä (0.047414)\n",
      "> #11. Finnish (0.004310)\n",
      "topic_4\n",
      "> #1. demo (0.209544)\n",
      "> #2. alkaa (0.085062)\n",
      "> #3. nykyinen (0.064315)\n",
      "> #4. yleisö (0.043568)\n",
      "> #5. demoskenen (0.043568)\n",
      "> #6. kehitys (0.043568)\n",
      "> #7. suuri (0.043568)\n",
      "> #8. henkilö (0.022822)\n",
      "> #9. graafinen (0.022822)\n",
      "> #10. demoskene (0.022822)\n",
      "> #11. pelkästään (0.022822)\n",
      "topic_5\n",
      "> #1. alkaa (0.110390)\n",
      "> #2. demoskenen (0.088745)\n",
      "> #3. ryhmä (0.067100)\n",
      "> #4. järjestää (0.067100)\n",
      "> #5. tuotos (0.045455)\n",
      "> #6. 1980luku (0.045455)\n",
      "> #7. Gold (0.023810)\n",
      "> #8. erilainen (0.023810)\n",
      "> #9. ihminen (0.023810)\n",
      "> #10. puoliväli (0.023810)\n",
      "> #11. Demojen (0.023810)\n",
      "topic_6\n",
      "> #1. PC (0.099359)\n",
      "> #2. Future (0.099359)\n",
      "> #3. vuosi (0.067308)\n",
      "> #4. Amiga (0.067308)\n",
      "> #5. luoda (0.067308)\n",
      "> #6. 1980luku (0.035256)\n",
      "> #7. peli (0.035256)\n",
      "> #8. ohjelma (0.035256)\n",
      "> #9. nähdä (0.035256)\n",
      "> #10. kuulua (0.035256)\n",
      "> #11. ryhmä (0.035256)\n",
      "topic_7\n",
      "> #1. käyttö (0.088068)\n",
      "> #2. demoskene (0.088068)\n",
      "> #3. luoda (0.059659)\n",
      "> #4. käyttää (0.059659)\n",
      "> #5. pitää (0.059659)\n",
      "> #6. demoskenen (0.031250)\n",
      "> #7. demo (0.031250)\n",
      "> #8. alkaa (0.031250)\n",
      "> #9. jos (0.031250)\n",
      "> #10. siirtyä (0.031250)\n",
      "> #11. nykyinen (0.031250)\n",
      "topic_8\n",
      "> #1. tapahtuma (0.169421)\n",
      "> #2. henkilö (0.086777)\n",
      "> #3. kuulua (0.045455)\n",
      "> #4. olla (0.045455)\n",
      "> #5. aika (0.045455)\n",
      "> #6. nykyään (0.045455)\n",
      "> #7. muuttua (0.045455)\n",
      "> #8. muu (0.045455)\n",
      "> #9. tapa (0.045455)\n",
      "> #10. tekeminen (0.045455)\n",
      "> #11. yleinen (0.045455)\n",
      "topic_9\n",
      "> #1. Amiga (0.116477)\n",
      "> #2. peli (0.088068)\n",
      "> #3. Commodore (0.059659)\n",
      "> #4. Demoskene (0.059659)\n",
      "> #5. alkaa (0.059659)\n",
      "> #6. nähdä (0.059659)\n",
      "> #7. laitteisto (0.031250)\n",
      "> #8. kehitys (0.031250)\n",
      "> #9. ohjelma (0.031250)\n",
      "> #10. musiikki (0.031250)\n",
      "> #11. demo (0.031250)\n",
      "topic_10\n",
      "> #1. Suomi (0.123494)\n",
      "> #2. järjestää (0.063253)\n",
      "> #3. PC (0.063253)\n",
      "> #4. demoryhmi (0.033133)\n",
      "> #5. muu (0.033133)\n",
      "> #6. demoskene (0.033133)\n",
      "> #7. pitää (0.033133)\n",
      "> #8. puoli (0.033133)\n",
      "> #9. nykyään (0.033133)\n",
      "> #10. alkaa (0.033133)\n",
      "> #11. jos (0.033133)\n",
      "topic_11\n",
      "> #1. ryhmä (0.109375)\n",
      "> #2. Demoskene (0.057292)\n",
      "> #3. kuulua (0.057292)\n",
      "> #4. ohjelmoija (0.057292)\n",
      "> #5. henkilö (0.057292)\n",
      "> #6. erillinen (0.057292)\n",
      "> #7. demo (0.057292)\n",
      "> #8. yleisö (0.057292)\n",
      "> #9. usea (0.057292)\n",
      "> #10. 1990luku (0.057292)\n",
      "> #11. käyttää (0.057292)\n",
      "topic_12\n",
      "> #1. tapahtuma (0.180233)\n",
      "> #2. tuotos (0.122093)\n",
      "> #3. kuulua (0.063953)\n",
      "> #4. demo (0.063953)\n",
      "> #5. usea (0.063953)\n",
      "> #6. ottaa (0.063953)\n",
      "> #7. olla (0.063953)\n",
      "> #8. jakaa (0.005814)\n",
      "> #9. erillinen (0.005814)\n",
      "> #10. graafinen (0.005814)\n",
      "> #11. henkilö (0.005814)\n",
      "topic_13\n",
      "> #1. 1980luku (0.077465)\n",
      "> #2. muu (0.077465)\n",
      "> #3. saada (0.077465)\n",
      "> #4. suomalainen (0.077465)\n",
      "> #5. demoskene (0.077465)\n",
      "> #6. valtaosa (0.077465)\n",
      "> #7. 1990luku (0.077465)\n",
      "> #8. kutsua (0.007042)\n",
      "> #9. kone (0.007042)\n",
      "> #10. kehitys (0.007042)\n",
      "> #11. kansainvälinen (0.007042)\n",
      "topic_14\n",
      "> #1. ryhmä (0.080078)\n",
      "> #2. musiikki (0.080078)\n",
      "> #3. Byterapers (0.041016)\n",
      "> #4. vuosi (0.041016)\n",
      "> #5. varhainen (0.041016)\n",
      "> #6. 1990luku (0.041016)\n",
      "> #7. kutsua (0.041016)\n",
      "> #8. käyttää (0.041016)\n",
      "> #9. Amiga (0.041016)\n",
      "> #10. muuttua (0.021484)\n",
      "> #11. ottaa (0.021484)\n",
      "topic_15\n",
      "> #1. laite (0.099057)\n",
      "> #2. demo (0.099057)\n",
      "> #3. saada (0.099057)\n",
      "> #4. kuulua (0.051887)\n",
      "> #5. kone (0.051887)\n",
      "> #6. nykyinen (0.051887)\n",
      "> #7. pelkästään (0.051887)\n",
      "> #8. erilainen (0.051887)\n",
      "> #9. laitteisto (0.051887)\n",
      "> #10. demoskene (0.051887)\n",
      "> #11. valtaosa (0.051887)\n",
      "topic_16\n",
      "> #1. kone (0.094595)\n",
      "> #2. ryhmä (0.094595)\n",
      "> #3. syntyä (0.094595)\n",
      "> #4. laitteisto (0.049550)\n",
      "> #5. tapa (0.049550)\n",
      "> #6. laite (0.049550)\n",
      "> #7. olla (0.049550)\n",
      "> #8. demoskene (0.049550)\n",
      "> #9. siirtyä (0.049550)\n",
      "> #10. alkaa (0.049550)\n",
      "> #11. Amiga (0.049550)\n",
      "topic_17\n",
      "> #1. demoskenen (0.086777)\n",
      "> #2. pitää (0.086777)\n",
      "> #3. ihminen (0.086777)\n",
      "> #4. tapa (0.045455)\n",
      "> #5. demo (0.045455)\n",
      "> #6. ryhmä (0.045455)\n",
      "> #7. saada (0.045455)\n",
      "> #8. Suomi (0.045455)\n",
      "> #9. peli (0.045455)\n",
      "> #10. jakaa (0.045455)\n",
      "> #11. tapahtuma (0.045455)\n"
     ]
    }
   ],
   "source": [
    "vocab = np.array(vocab_)   # sanaston tulee olla NumPy array\n",
    "\n",
    "doc_lengths_ = doc_lengths(dtm_)\n",
    "topic_labels = generate_topic_labels_from_top_words(\n",
    "    paras_Mimno_LDA.topic_word_,\n",
    "    paras_Mimno_LDA.doc_topic_,\n",
    "    doc_lengths_,\n",
    "    np.array(vocab),\n",
    "    lambda_=0.6\n",
    ")\n",
    "\n",
    "print_ldamodel_topic_words(paras_Mimno_LDA.topic_word_, vocab, top_n=11)"
   ]
  },
  {
   "cell_type": "code",
   "execution_count": 28,
   "metadata": {},
   "outputs": [
    {
     "data": {
      "text/plain": [
       "array(['1_ryhmä_jäsen', '2_aika_käyttää', '3_vuosi_jakaa',\n",
       "       '4_demo_nykyinen', '5_alkaa_demoskenen', '6_Future_PC',\n",
       "       '7_käyttö_demoskene', '8_tapahtuma_henkilö', '9_Amiga_peli',\n",
       "       '10_Suomi_PC', '11_ryhmä_Demoskene', '12_tapahtuma_tuotos',\n",
       "       '13_valtaosa_suomalainen', '14_musiikki_ryhmä', '15_laite_saada',\n",
       "       '16_kone_syntyä', '17_ihminen_pitää'], dtype='<U23')"
      ]
     },
     "execution_count": 28,
     "metadata": {},
     "output_type": "execute_result"
    }
   ],
   "source": [
    "topic_labels"
   ]
  },
  {
   "cell_type": "markdown",
   "metadata": {},
   "source": [
    "Aihesanat graafisena sanapilvenä, tarvitsee myös \"pip install wordcloud\""
   ]
  },
  {
   "cell_type": "code",
   "execution_count": 29,
   "metadata": {},
   "outputs": [],
   "source": [
    "from tmtoolkit.topicmod.visualize import generate_wordclouds_for_topic_words"
   ]
  },
  {
   "cell_type": "code",
   "execution_count": 30,
   "metadata": {},
   "outputs": [
    {
     "data": {
      "text/plain": [
       "{'1_ryhmä_jäsen': <PIL.Image.Image image mode=RGBA size=800x600>,\n",
       " '2_aika_käyttää': <PIL.Image.Image image mode=RGBA size=800x600>,\n",
       " '3_vuosi_jakaa': <PIL.Image.Image image mode=RGBA size=800x600>,\n",
       " '4_demo_nykyinen': <PIL.Image.Image image mode=RGBA size=800x600>,\n",
       " '5_alkaa_demoskenen': <PIL.Image.Image image mode=RGBA size=800x600>,\n",
       " '6_Future_PC': <PIL.Image.Image image mode=RGBA size=800x600>,\n",
       " '7_käyttö_demoskene': <PIL.Image.Image image mode=RGBA size=800x600>,\n",
       " '8_tapahtuma_henkilö': <PIL.Image.Image image mode=RGBA size=800x600>,\n",
       " '9_Amiga_peli': <PIL.Image.Image image mode=RGBA size=800x600>,\n",
       " '10_Suomi_PC': <PIL.Image.Image image mode=RGBA size=800x600>,\n",
       " '11_ryhmä_Demoskene': <PIL.Image.Image image mode=RGBA size=800x600>,\n",
       " '12_tapahtuma_tuotos': <PIL.Image.Image image mode=RGBA size=800x600>,\n",
       " '13_valtaosa_suomalainen': <PIL.Image.Image image mode=RGBA size=800x600>,\n",
       " '14_musiikki_ryhmä': <PIL.Image.Image image mode=RGBA size=800x600>,\n",
       " '15_laite_saada': <PIL.Image.Image image mode=RGBA size=800x600>,\n",
       " '16_kone_syntyä': <PIL.Image.Image image mode=RGBA size=800x600>,\n",
       " '17_ihminen_pitää': <PIL.Image.Image image mode=RGBA size=800x600>}"
      ]
     },
     "execution_count": 30,
     "metadata": {},
     "output_type": "execute_result"
    }
   ],
   "source": [
    "# luodaan aihesanapilvi 11 aihesanalla\n",
    "topic_clouds = generate_wordclouds_for_topic_words(\n",
    "    paras_Mimno_LDA.topic_word_, vocab,\n",
    "    top_n=11, topic_labels=topic_labels,\n",
    "    width=800, height=600,\n",
    "    return_images = True)\n",
    "\n",
    "# katsotaan jokaisen aiheen sanapilvi, huomataan, että kyseessä on Pythonin dict-tietorakenne,\n",
    "# jossa avaimena on aiheen numero ja aihetta eniten karakterisoiva sana. Avaimelle arvona on Image saaduilla tiedoilla\n",
    "topic_clouds"
   ]
  },
  {
   "cell_type": "code",
   "execution_count": 31,
   "metadata": {},
   "outputs": [],
   "source": [
    "\n",
    "# poimitaan aihe\n",
    "im = topic_clouds[\"9_Amiga_peli\"]"
   ]
  },
  {
   "cell_type": "markdown",
   "metadata": {},
   "source": [
    "Edellä saaduissa kuvissa on läpinäkyvyyttä, ts. niiden alpha ei ole kaikkialla 255.\n",
    "Seuraavaksi konvertoidaan kuvat antialiasoiduiksi kuviksi ilman läpinäkyvyytä, ts. alpha = 255 kaikkialla."
   ]
  },
  {
   "cell_type": "code",
   "execution_count": 32,
   "metadata": {},
   "outputs": [],
   "source": [
    "from PIL import Image"
   ]
  },
  {
   "cell_type": "code",
   "execution_count": 33,
   "metadata": {},
   "outputs": [],
   "source": [
    "# Luo uusi kuva, jossa on valkoinen tausta ja RGBA-tila\n",
    "antialiased_image = Image.new(\"RGBA\", im.size, (255, 255, 255, 255))\n",
    "# Liimataan alkuperäinen kuva tähän uuteen antialiasoituun kuvaan\n",
    "antialiased_image.paste(im, (0, 0), im)\n",
    "\n",
    "# ainakin Windows 11:ssa seuraava koodirivi avaa järjestelmän kuvankatseluohjelman\n",
    "antialiased_image.show()"
   ]
  },
  {
   "cell_type": "markdown",
   "metadata": {},
   "source": [
    "Tulostetaan aiheet"
   ]
  },
  {
   "cell_type": "code",
   "execution_count": 34,
   "metadata": {},
   "outputs": [
    {
     "name": "stdout",
     "output_type": "stream",
     "text": [
      "\n",
      "=== Aihe 1 ===\n",
      "\n",
      "Demoskene alkoi syntyä niihin aikoihin, kun osa piraattiryhmistä alkoi kilpailla kräkkäystaitojen ja levittämisnopeuden lisäksi myös introjen paremmuudella ja julkaista niitä myös erillään ohjelmakopioista.\n",
      "Ensimmäisiä varhaisia tapauksia demoskeneryhmistä olivat alankomaalaiset 1001 Crew (alun perin 1001 & the Cracking Crew) ja The Judges.\n",
      "Tuolloin olemassa olevat ryhmät kilpailivat tiiviisti ensimmäisinä luoduista ohjelmointisaavutuksista, joita mainostettiin kovaan ääneen joko itse tuotoksessa tai sitä levittäessä.\n",
      "\n",
      "Demopartyt ovat yleensä viikonlopun yli kestäviä tapahtumia, joihin kuuluu olennaisesti pimeä tila, jossa on videotykki tuotosten esittämistä varten.\n",
      "Tapahtumat ovat tavallisesti keskeytyksettömiä, ja useimmat kävijät myös yöpyvät paikan päällä.\n",
      "Monet ottavat tapahtumiin mukaan myös omia tietokoneitaan tuotosten viimeistelyä tai ajanvietettä varten, minkä vuoksi päätilassa on sähköistettyä pöytätilaa ja yleensä myös lähiverkko.\n",
      "Osa demopartyistä muistuttaakin läheisesti tietokonepelaajien LAN-partyjä, ja etenkin suuremmat tapahtumat ovatkin usein yhdistettyjä demo- ja pelitapahtumia.\n",
      "\n",
      "Kehittyneiden syntetisaattoriohjelmistojen ilmestyessä ja MP3-pakkausmuodon yleistyessä osa skenemuusikoista siirtyi kaupallisten sekvensseri-ohjelmien käyttöön, mutta tracker-musiikkia pidetään yhä eräänä demoskenen tunnusmuotona.\n",
      "Vähemmän tehokkaiden laitteiden demomusiikki luodaan edelleen yleensä trackereilla, PCM-ääntä tukemattomien tietokoneiden kohdalla käyttäen laitteiston omia äänigeneraattoreita.\n",
      "Myös pienikokoisemmissa demoissa (kuten 4 ja 64 kilotavun introissa) käytetään edelleen usein tracker-formaatteja, joskin myös ohjelmallisten syntetisaattorien (software synthesizer, softasyna) käyttö valmiiksi tallennettujen ääninäytteiden sijaan on yleistä.\n",
      "Tracker-tyylistä sekvensointia pidetäänkin demomusiikille tunnusomaisempana kuin äänisynteesin toteutustapaa.\n",
      "\n",
      "=== Aihe 2 ===\n",
      "\n",
      "Hiljalleen toiminta alkoi järjestäytyä ja ryhmät alkoivat järjestää alan tapaamisia, copypartyja, jossa vaihdettiin tuotoksia, piraattiohjelmistoa ja kuulumisia.\n",
      "Copypartyt olivat tuolloin suhteellisen pieniä, mutta kuitenkin tiiviin yhteisön kansoittamia.\n",
      "Ensimmäisiä copypartyja järjestivät muun muassa tanskalainen Danish Gold ja saksalainen RADWAR.\n",
      "\n",
      "1980-luvun lopulla copypartyille ilmestyivät kilpailusarjat, jossa tuolloiset ryhmät kilpailivat ohjelmointisaavutustensa parhaimmuudesta.\n",
      "Suomen ensimmäinen demokilpailu järjestettiin elokuussa 1988 järjestetyllä Byterapers Grendelpartyillä, jonka voittaja oli Finnish Goldin Contest-Demo.\n",
      "\n",
      "Ajan myötä tämä kuitenkin muuttui, tapahtumat kasvoivat muutamassa vuodessa yhä suuremmiksi, jopa 100–200 henkilön tapahtumiin.\n",
      "Tapahtumille haettiin sponsoreita ja palkintoja ilmestyi kilpailusarjoihin.\n",
      "Merkittävämpinä tältä ajalta mainittakoon yhdysvaltalainen Gravis, joka lahjoitti useita Ultrasound-äänikorttejaan tapahtumissa.\n",
      "Seurauksena kehittäjät omaksuivat kortin nopeasti ja siitä muodostuikin de facto -standardi 1990-luvun alun PC-tuotannoissa.\n",
      "\n",
      "=== Aihe 3 ===\n",
      "\n",
      "Laitesodat Amigan ja PC:n välillä alkoivat kuumentua, kun PC:llä toimivat ryhmät ottivat tavoitteekseen näyttää, että heidän koneillaan kykenee luomaan samantasoista materiaalia kuin Amigallakin.\n",
      "Amigan tarkat näyttötilat olivat kuitenkin vielä vuosia edellä PC:n VGA-tekniikkaa.\n",
      "Ensimmäiset vakavat PC-demoyritykset nähtiin vuosien 1991 ja 1993 välillä.\n",
      "Tunnetuimpia olivat Ultraforcen Vectordemo, Renaissancen Amnesia, Future Crew'n Second Reality ja Tritonin Crystal Dreams II.\n",
      "\n",
      "Vaikka demoskene on vieläkin varsin pitkälti underground-kulttuuria ja demontekijät muodostavat edelleen valtaosan omasta yleisöstään, ovat demot vaikuttaneet huomattavasti esimerkiksi tietokonepeleihin ja nykyiseen mediataiteeseen.\n",
      "\n",
      "=== Aihe 4 ===\n",
      "\n",
      "Uusimmat saavutukset nähtiin useimmiten juuri Amigalla, mikä johtui laiteominaisuuksien ylivoimaisuudesta vanhentuneeseen Commodore 64:ään ja toimistokoneena pidettyyn PC-yhteensopivaan nähden.\n",
      "Peruslaitteisto oli aika lailla yhtenäistä kaikilla kotitietokoneilla, joka antoi omaa liikkumavaraa rajojen hakemiseen, koska lähtökohdat olivat kaikilla samat.\n",
      "PC:llä taasen tilanne ei ollut näin yksinkertainen, koska sille ohjelmoiminen oli oma haasteensa juuri laitteiston vaihtuvuuden takia.\n",
      "Tilanne kuitenkin helpottui, kun laitetehot kasvoivat ja ensimmäiset kuluttajamallit äänikorteista saapuivat markkinoille.\n",
      "\n",
      "Toisinaan demoskenen ulkopuoliset pelikehittäjät ovat nimenneet demot vaikutteekseen, kuten SimCityistä tuttu Will Wright mainitsi uuden pelinsä Sporen saaneen suuresti ideoita demoskenen ohjelmointitavoista.\n",
      "\n",
      "Demoskene on myös silloin tällöin noussut julkisuuteen erilaisten ohjelmoinnillisten taidonnäytteiden kuten saksalaisen Farbrausch-ryhmän julkaiseman 96 kilotavun kokoisen .kkrieger-räiskintäpelin kautta.\n",
      "\n",
      "=== Aihe 5 ===\n",
      "\n",
      "Laitetehon huima parantuminen sekä 3D-grafiikkakiihdyttimien ja niihin liittyvien renderöintirajapintojen (muun muassa DirectX ja OpenGL) markkinoilletulo on aikaansaanut sen, että osa ohjelmointityöstä, joka ennen suoritettiin itse, tapahtuu nyt ohjelmointirajapinnan toisella puolella.\n",
      "Tämän ansiosta ohjelmoijat voivat käyttää aikaansa muihin innovatiivisiin ratkaisuihin.\n",
      "Ohjelmoinnillisia haasteita haetaan nykyään enemmän tiiviiseen pakattujen introjen kuin suurikokoisten demojen luomisesta.\n",
      "Merkittävänä uutena tekijänä on myös mainittava mobiililaitteistolle (kännykät, kämmenmikrot, käsikonsolit) luodut demot.\n",
      "Näiden tekniikka muistuttaa suuresti 1990-luvun puolivälin koneita ja osa demoista lainaakin vaikutteitaan suuresti juuri kyseiseltä aikakaudelta.\n",
      "Kuitenkaan C64:ää ja Amigaa ei ole unohdettu, vaan näille järjestetään yhä omia kilpailusarjoja demojen, grafiikan ja musiikin saralla.\n",
      "\n",
      "Demojen musiikki luotiin 1980-luvulla vielä itsetehdyillä ohjelmilla ja ohjelmakoodilla, tai kopioitiin suoraan esimerkiksi jostain pelistä.\n",
      "Finnish Goldin vuonna 1988 julkaisema Future Composer oli yksi ensimmäisistä C64-käyttäjien keskuuteen levinneistä sävellysohjelmista.\n",
      "Ohjelman alkuperä oli kuitenkin Maniacs of Noise -ryhmään kuuluneen Charles Deenenin soittorutiineissa, jotka lainattiin häikäilemättä suoraan Future Composeriin.\n",
      "\n",
      "Maantieteellisesti demoskene on hyvin eurooppakeskeinen.\n",
      "Euroopassa järjestetään esimerkiksi useita kymmeniä demotapahtumia joka vuosi, kun vaikkapa Pohjois-Amerikassa on yhteensä koskaan pidetty vain kymmenkunta tapahtumaa.\n",
      "Vaikka demoskene onkin kokonaisuutena hyvin kansainvälinen, erottuvat eri maat kuitenkin varsin selvästi toisistaan, ja alan ihmisten kesken voidaankin puhua muun muassa suomiskenestä.\n",
      "\n",
      "Jo 1980-luvulta alkaen monet menestyneet peliohjelmoijat, -graafikot ja -muusikot ovat saaneet oppinsa demoskeneltä.\n",
      "Esimerkiksi valtaosa kansainvälisesti menestyneistä suomalaisista tietokonepeliyrityksistä on demontekijöiden perustamia, kuten Remedy Entertainment, Housemarque ja Bugbear Entertainment.\n",
      "Pohjoismaalaisista peliyhtiöistä ennen kaikkea The Silentsin jäsenien perustama Digital Illusions CE on kerännyt mainetta 1990-luvun alusta lähtien.\n",
      "Demoskeneläisiä työskentelee paljon myös muissa IT-yrityksissä sekä esimerkiksi TV-yhtiöissä graafikkoina.\n",
      "\n",
      "=== Aihe 6 ===\n",
      "\n",
      "Mitään selkeitä kriteereitä parhaiden demojen valinnalle ei ole, vaan demojen katsoja äänestää yleensä henkilökohtaisten mieltymystensä mukaan niitä tuotoksia, jotka tekivät häneen jollain tasolla suurimman vaikutuksen.\n",
      "Alkuaikoina vaikutus pyrittiin yleensä tekemään ohjelmointiteknisellä paremmuudella, esimerkiksi rikkomalla ennätyksiä ruudulla kerralla näkyvien liikkuvien hahmojen tai 3d-pisteiden määrässä.\n",
      "Vuosien saatossa ohjelmointisaavutusten painottaminen on kuitenkin enemmälti vaihtunut taiteelliseen ulosannin yhtenäisyyden ja näyttävyyden arvostamiseen.\n",
      "Suurissa tapahtumissa yleisöön kuuluu usein paljon demoskeneen perehtymättömiä henkilöitä, mistä johtuen kilpailuja on usein voitettu myös pelkkään vitsikkyyteen tai muuhun \"massojen kosiskeluun\" perustuvilla teoksilla.\n",
      "Tätä ei yleensä pidetä suotavana, sillä yleisen käsityksen mukaan demojen paremmuutta ovat päteviä arvioimaan vain ne, jotka ovat itse osallistuneet demojen tekemiseen.\n",
      "Parhaat demot ovat kuitenkin yleensä tehneet vaikutuksen sisäpiirin lisäksi myös laajempaan yleisöön.\n",
      "\n",
      "EFGAMPin (European Federation of Game Archives Museums and Preservation Projects) Art of Coding -kampanja pyrkii nostamaan demoskenen digitaalisen taiteen Unescon aineettoman kulttuuriperinnön luetteloon.\n",
      "Huhtikuussa 2020 Opetus- ja kulttuuriministeriö lisäsi suomalaista digitaalista kulttuuria edustavan demoskenen Elävän perinnön luetteloon.\n",
      "\n",
      "=== Aihe 7 ===\n",
      "\n",
      "1990-luvulle saapuessa demoskenen kehitys alkoi suuntautua kohti nykyistä malliaan.\n",
      "Ryhmät alkoivat keskittyä pelkästään demojen luomiseen tai perustivat erillisen jaoston niiden tuottamiseen.\n",
      "Tapahtumien järjestäjät alkoivat ajan myötä kieltää laittomien ohjelmien levittämisen, jolloin nykyisten demopartyjen toimintamallin voidaan katsoa alkaneeksi.\n",
      "Piratismin jäädessä sivualalle demoskene oli kehittynyt omaksi alakulttuurikseen.\n",
      "\n",
      "Suomen ensimmäiset partyt olivat Jyväskylässä pidetty Finnish Gold/The Jezebels Union party vuonna 1987.\n",
      "Suomen (ja maailman) suurin demoparty on Assembly, joskin tapahtumassa nykyään demoskene on jäänyt syrjään esimerkiksi tietokonepelaamisen alta.\n",
      "Muista kansainvälisistä demopartyistä huomionarvoinen oli Saksassa vuosina 2003-2010 järjestetty Breakpoint.\n",
      "Kun Breakpoint lopetettiin, suurimmaksi nimenomaan demoskeneen keskittyneeksi tapahtumaksi on jäänyt niin ikään Saksassa järjestettävä Revision.\n",
      "\n",
      "Kun 1990-luvun alussa perus-PC:n havaittiin olevan tarpeeksi tehokas soittamaan ja miksaamaan ohjelmallisesti yhtä aikaa neljää digitaalista äänikanavaa (ilman erillistä tukea laitteiston puolelta), tulivat myös PC-koneille ensimmäiset tracker-ohjelmistot.\n",
      "Perinteisesti PC-koneet oli varustettuja sisäisellä kaiuttimella, joka oli tarkoitettu vain yksinkertaiseen piipitykseen (joskin siitä saa heikkotasoista PCM-ääntä ulos muokkaamalla aaltomuotoja ohjelmallisesti).\n",
      "Aluksi äänikorttien asemasta käytettiin usein harrastelijoiden rakentamia digitaali/analogimuuntimia, jotka liitettiin koneen rinnakkaisporttiin.\n",
      "\n",
      "=== Aihe 8 ===\n",
      "\n",
      "PC-koneilla suurin mullistus nähtiin 1990-luvun lopussa, kun suurin osa PC-demontekijöistä siirtyi DOS-alustalta Microsoft Windowsiin.\n",
      "Samoihin aikoihin sijoittui myös aikansa suurimman demokirjaston, Hornet Archiven, sulkeutuminen ja sen aiheuttama kriisi yhteisön keskuudessa.\n",
      "Tapahtumat ovat kytköksissä toisiinsa siten, että Hornet-ryhmän jäsenten mielestä Windowsiin siirtyminen tappoi PC-demoskenen pakottamalla ohjelmoijat käyttämään valmiita rajapintoja laitteiston suoran ohjelmoinnin sijaan.\n",
      "\n",
      "Demoja luodaan myös yhä useille vanhoille laitealustoille, joiden moni on jo uskonut hiipuneen unohdukseen, kuten esimerkiksi 8-bittisistä koneista Commodore VIC-20, ZX Spectrum, MSX, Amstrad CPC ja Game Boy.\n",
      "Vanhojen alustojen käytössä ei ole välttämättä kyse nostalgiasta tai kehitysvastarinnasta vaan pikemminkin halusta kohdata haasteita.\n",
      "\n",
      "=== Aihe 9 ===\n",
      "\n",
      "Demoskenen juuret ovat 1980-luvun edullisten mikrotietokoneiden yleistymisessä.\n",
      "Demoskene on lähtöisin pelejä ja muita ohjelmia kopioineissa ja levittäneissä piraattipiireissä.\n",
      "Pelin kopiosuojauksen murtaneet kräkkerit alkoivat lisätä murrettujen pelien alkuun omia tunnuksiaan, joista eräät varhaisimmat esimerkit nähtiin Apple II:lla 1970- ja 1980-lukujen vaihteessa.\n",
      "Ne olivat aluksi pelkkiä lyhyitä tekstejä ja staattisia ruutuja, mutta joihin tuli myöhemmin mukaan myös graafisia efektejä ja musiikkia.\n",
      "Nämä niin kutsutut cracktrot eli crack-introt tulivat erityisen tutuiksi monille Commodore 64- ja Amiga -kotitietokoneiden käyttäjille.\n",
      "\n",
      "Vielä 1980-luvun alussa ei ollut olemassa selvää jakoa demoskenen ja piraattipiirien välillä.\n",
      "Useimmat ryhmät työstivät vielä omia kopiosuojausmurtojaan ja levittivät ohjelmia eteenpäin.\n",
      "Kuitenkin 1980-luvun puolivälissä kuvio alkoi hitaasti muuttua, kun introja alettiin levittää itsenäisinä teoksina.\n",
      "Demojen teon osa-alueita alettiin jakaa ryhmän jäsenten kesken, ja niin syntyi nykyäänkin vallitseva kolmijako ohjelmoijiin, graafikoihin ja muusikoihin.\n",
      "Demoja vaihdettiin osittain samojen levityskanavien kautta kuin piraattiohjelmiakin, eli lähinnä postitse ja BBS-järjestelmien välityksellä.\n",
      "Postitse tapahtuvaa tuotosten välittämistä kutsutaan swappaamiseksi ja parhaimmat swappaajat vaihtoivatkin levykkeitä kymmenien ihmisten kanssa postitse viikoittain.\n",
      "Viitseliäimmät liittivät pakettiensa mukaan omaa kansitaidettaan ja terveisiä vastaanottajalle.\n",
      "\n",
      "Suomessa on perinteisesti ollut paljon kansainvälisesti arvostettuja demoryhmiä, joiden ansiosta Suomi on ollut pitkään yksi merkittävimmistä demoskenemaista muiden pohjoismaiden ja Saksan ohella.\n",
      "\n",
      "Suuren yleisön silmissä demoskenen tunnettavuutta karsii ennen kaikkea sen epäkaupallisuus, mutta esimerkiksi vuonna 2006 Intel järjesti valikoidulle määrälle demoryhmiä oman sponsorikilpailunsa.\n",
      "\n",
      "=== Aihe 10 ===\n",
      "\n",
      "Aiemmin demoskene jakautui käytetyn laitteiston mukaan tiukemmin erilaisiin alaryhmiin kuten PC-, Amiga- ja C64-skeneihin.\n",
      "Nykyisin emulaattorit ja videotiedostot mahdollistavat myös vieraiden laitteiden demojen seuraamisen, eikä entisenlaista konesotaa tai eri laitteiden käyttäjien pitäytymistä omissa leireissään ole juuri havaittavissa.\n",
      "Nykyaikaisten pöytäkoneiden demot voivat myös olla saatavilla useille koneille ja käyttöjärjestelmille kuten Windowsille, Linuxille (ja Unixin kaltaisille) sekä OS X:lle.\n",
      "Valtaosa nykyisistä PC-demoista on kuitenkin saatavilla pelkästään Windowsille, eikä lähdekoodin jakaminen kuulu useimpien demontekijöiden tapoihin.\n",
      "\n",
      "Demopartyjen historiaan kuuluvat myös olennaisena osana kutsudemot, eli invtro (invitation intro), joissa tiedotetaan muille henkilöille tapahtumasta, sen sijainnista ja tapahtuma-ajasta.\n",
      "Internetin yleistymistä edeltävänä aikana tämä olikin yleisin tapa tiedottaa tapahtumasta ja nykyään niiden tekeminen onkin jo vähentymään päin.\n",
      "\n",
      "Äänikorttien kehittyessä ja laskentatehon kasvaessa PC:lle luotiin kehittyneempiä tracker-ohjelmistoja.\n",
      "Varhaisimmat äänikortit eivät pysyneet tahdin mukana, kun Scream Tracker 3 yleisti 16-kanavaisen tracker-musiikin PC:n puolella.\n",
      "Gravisin Ultrasound oli kuin suunnattu tracker-musiikin luontiin 32 erillisen äänikanavansa ja sisäisen muistinsa avulla.\n",
      "Kappaleiden sävellys- ja soittorutiinit latasivat kappaleiden instrumentit suoraan kortin muistiin, mikä vapautti keskusmuistia muuhun käyttöön, ja laitteistopohjainen miksaaminen säästi vaivan vastaavalta ohjelmalliselta toteutukselta.\n",
      "Myöhemmin tietokoneiden tehojen kasvaessa laitteistotasolla tapahtuvan äänenkäsittelyn merkitys pieneni, ja suurempiakin kanavamääriä alettiin toteuttaa ohjelmallisesti\n",
      "\n",
      "=== Aihe 11 ===\n",
      "\n",
      "Varhaiset demot koostuivat usein monista täysin erillisistä osista (part), joiden välillä siirryttiin esimerkiksi näppäinpainalluksilla.\n",
      "Tällainen demo on multipart-demo, ja hyvin monta osaa sisältävästä demosta on vanhastaan käytetty nimitystä megademo.\n",
      "Hiljalleen efektien esittelyä alettiin yhdistää yhtenäiseen teemaan tai musiikin tahtiin.\n",
      "Tätä aikaa voikin kutsua demoskenen kultaiseksi aikakaudeksi: demot muuttuivat efektien esittelystä hiljalleen kokonaisuuksiksi, jossa ohjelmallinen, graafinen ja musiikillinen yhteistyö nivoutuivat toisiinsa.\n",
      "Tämän kehityksen kantaisänä pidetään nykyään Scoopexin vuonna 1990 julkaisemaa Mental Hangoveria, joka muutti trendin pätkittäisistä megademoista nykyiseen suuntaan.\n",
      "Toinen mainitsemisen arvoinen ryhmä on Amigalla toiminut Melon Dezign, joka yhtenä ensimmäisistä ryhmistä painotti tyyliä ja suunnittelua vähintään yhtä antaumuksellisesti kuin ohjelmallisia seikkoja.\n",
      "\n",
      "Varhaisissa introissa musiikki oli lainattu usein peleistä, mutta musiikin tekemiseen itse siirryttiin pian, kun harrastajat saivat omia musiikkiohjelmiaan aikaiseksi.\n",
      "Amigalla ja PC:llä PCM-sampleja soitinääninä käyttävä tracker-musiikki oli demoskenen hallitseva musiikkimuoto koko 1990-luvun ajan.\n",
      "Demojen ja yksittäisten musiikkijulkaisujen lisäksi ryhmät julkaisivat myös yhdelle tai useammalle disketille jaettuja musicdiskejä, jossa graafinen soittorutiini toisti ryhmän muusikoiden kappaleita.\n",
      "Suomalaisia musicdiskejä mainittakoon Byterapersin Muzzaxit 1–7, Complexin Book of Songs, Future Crew'n Journeyt ja da Jormasin lukemattomat tuotokset.\n",
      "Tyyliltään varhainen skenemusiikki lainasi syntikkapopin, kaupallisen synamusiikin (Jarre) ja italodiskon kaltaisista genreistä.\n",
      "Tyylillisesti skenemusiikin parissa on kuitenkin kokeiltu lähes kaikkea.\n",
      "Usein vaikutteita on otettu kunkin ajan konemusiikista.\n",
      "\n",
      "=== Aihe 12 ===\n",
      "\n",
      "Demoskene on hyvin kilpailuhenkinen alakulttuuri, ja demojen teossa kilpaillaankin ryhmien kesken etenkin erityisissä demotapahtumissa, joihin kuuluu useita kilpailuja eli kompoja.\n",
      "Voittajat valitaan yleensä yleisöäänestyksellä, jossa yleisö äänestää yhtä tai useampaa suosikkiteostaan kustakin kilpailusta.\n",
      "Yleensä kaikki teokset esitetään julkisesti, mutta suuremmissa tapahtumissa on usein tarpeen olla tuotoksien määrän vuoksi myös erillinen valitsijamiehistö, joka valitsee kilpailuun osallistuvat teokset.\n",
      "Etenkin 1990-luvulla oli suosittua tavoitella huippusijoja myös eri diskmagien järjestämissä äänestyksissä, joiden perusteella esimerkiksi parhaat ohjelmoijat, graafikot ja muusikot asetettiin paremmuusjärjestykseen.\n",
      "Listoista käytettiin nimitystä charts.\n",
      "\n",
      "=== Aihe 13 ===\n",
      "\n",
      "Ryhmä koostuu usein muutamasta tiettyyn tehtävään erikoistuneesta henkilöstä.\n",
      "\n",
      "=== Aihe 14 ===\n",
      "\n",
      "Vuosina 2003-2012 järjestettiin Scene.org Awards, joka pyrki olemaan Oscar-palkintojen demoskene-vastine.\n",
      "Esikuvansa tapaan myös Scene.org Awardeissa jaettiin tunnustuspalkintoja vuoden parhaille tuotoksille ja niiden tekijöille.\n",
      "Palkinnot jaettiin vuosina 2003-2010 Breakpoint-, vuonna 2011 The Gathering- ja vuonna 2012 ASSEMBLY-tapahtuman yhteydessä.\n",
      "Scene.org Awards -projektin lakattua The Meteoriks -projekti aloitti vuonna 2015 uuden, Scene.org Awards -organisaatiosta riippumattoman, vuotuisen tapahtuman vuoden parhaiden teosten palkitsemiseksi.\n",
      "Meteoriks-palkinnot on jaettu vuosina 2015 ja 2016 Revision-tapahtuman yhteydessä.\n",
      "\n",
      "Demopartyt ovat tapahtumia, jotka kokoavat alan ihmisiä yhteen ja järjestävät kilpailuja eli kompoja, joissa ryhmät kilpailevat eri sarjoissa tuotoksillaan.\n",
      "Demopartyjen esiasteena voidaan pitää ns. copypartyjä, jossa pääpaino oli aluksi suoranaisesti tuotosten vaihtamisessa ja ihmisten tapaamisessa, eikä vielä niin ikään kilpailemisessa.\n",
      "Suomen ensimmäinen demokompo pidettiin Byterapers Grendelpartyilla elokuussa 1988, palkintoja ei ollut vielä tapana jakaa voittajille.\n",
      "\n",
      "Ensimmäinen tracker-ohjelma oli Karsten Obarskin Amigalle vuonna 1987 kehittämä Ultimate Soundtracker, jota seurasivat useat muut ohjelmat.\n",
      "Amigan verrattain hyvien ääniominaisuuksien takia se oli suunnannäyttäjä äänentoiston saralla 1980- ja 1990-luvun taitteen ajan.\n",
      "Amigan peruslaitteisto pystyi toistamaan neljällä kanavalla 8-bittistä PCM-ääntä, joka voitiin 6-bittisen äänenvoimakkuuden kanssa yhdistää 14-bittiseksi ääneksi.\n",
      "Ensimmäiset mallit (OCS-piirisarja) pystyivät 28 kHz näytetaajuuteen kun taas päivitetyt mallit (ECS- ja AGA-piirisarjat) kykenivät 57 kHz näytetaajuuteen.\n",
      "\n",
      "Suomalaisia ryhmiä tai kansainvälisiä ryhmiä, joissa on tai on ollut suomalainen divisioona tai suomalaisia jäseniä, ovat muun muassa Ananasmurska, Komplex, Byterapers, Kooma, Damage, Matt Current, Damones, mfx, Dekadence, Moppi Productions, Extend, Orange, Faktory, Parallax, flo, Paranoids, Future Crew, PWP, HiRMU, RNO, ISO, tAAt, Jumalauta, Tpolm, Halcyon, CNCD, Traction, wAMMA ja Kewlers.\n",
      "Ulkomaalaisia demoryhmiä ovat muun muassa ACiD, Melon Dezign, ASD, Oxyron, Black Maiden, Pulse, Calodox, Ram jam, Cocoon, Rebels, Conspiracy, Sanity, Darkage, Scoopex, Dual Crew & Shining, Sunflower, Ephidrena, Surprise!Productions, Fairlight, The Black Lotus, Farbrausch, The Silents, Haujobb, Triad, Kolor ja TRSI.\n",
      "\n",
      "=== Aihe 15 ===\n",
      "\n",
      "Amiga 500:n ja Atari ST:n yleistymisen myötä myös demoskene alkoi siirtyä uusiin 16/32-bittisiin koneisiin ja perehtyä niiden graafisiin ja ohjelmoinnillisiin ominaisuuksiin samaan tapaan kuin aiemmin 8-bittisillä koneilla.\n",
      "Uusien laitteiden ollessa yhteensopimattomia vanhojen koneiden kanssa, ryhmien sisälle saattoi syntyä eri nurkkakuntia, jotka kehittivät vain tietylle laittelle suunnattuja demoja.\n",
      "Kulttuurinen ero syntyi eri koneiden käyttäjille, useimmat tietyn alustan kannattajat eivät saattaneet tuntea toisella laitteella aktiivisia ryhmiä.\n",
      "Tämä johti kiivaisiin konesotiin ja tietylle laitteistolle erikoistumista.\n",
      "\n",
      "Demot syntyvät yleensä ryhmätyön tuloksena.\n",
      "Olemassa on myös itsenäisesti teoksia julkaisevia artisteja, mutta lähinnä musiikin ja grafiikan saralla ja harvemmin demojen; jäseniä ei siis ole sidottu pelkästään vain ryhmän sisällä tapahtuvaan toimintaan, ja mikään ei yleensä estä jäsentä liittymästä myös toisiin ryhmiin.\n",
      "\n",
      "=== Aihe 16 ===\n",
      "\n",
      "Demokulttuuria on yritetty tuoda suuremman yleisön ja taidepiirien nähtäville muun muassa erilaisten näyttelyiden ja demonäytäntöjen kautta.\n",
      "Esimerkiksi Kiasmassa on järjestetty demonäyttely demoskene.katastro.fi ja saksalaisella Bitfilm Festivalilla on myös ollut oma demonäytös yleisöäänestyksineen.\n",
      "Samoin yhdysvaltalaisen SIGGRAPH-tapahtuman yhteydessä demoskenen antia on tuotu usein esille paneelikeskusteluiden ja esittelyiden muodossa.\n",
      "\n",
      "=== Aihe 17 ===\n",
      "\n",
      "1990-luvun puolivälin tienoilla PC-demot alkoivat muistuttaa näyttävyydeltä jo Amigan vastaavia ja seuraavana demojen kehityksenä olivat entistä monimutkaisempien 3D-mallien animoiminen, jolloin PC:n raaka laskentateho pääsi näyttämään kyntensä.\n",
      "Commodoren konkurssi vuonna 1994 ja siten laitealustan kehityksen päättyminen johti lopulta siihen, että PC-yhteensopivat ajoi Amigasta ohi pääkehitysalustana.\n",
      "\n",
      "On kuitenkin suhteellisen yleistä, että sama henkilö on erikoistunut useammalle eri osa-alueelle, esimerkiksi monet ohjelmoijat tekevät myös musiikkia.\n",
      "Monesti keskittyminen ohjelmointiin kuitenkin jättää muut osa-alueet varjoonsa, mistä syystä esimerkiksi musiikillisesti mitäänsanomatonta ja keskinkertaista demomusiikkia kutsutaan usein kooderimusiikiksi ja vastaavasti tyylitajuttomia väripaletteja kooderiväreiksi tai kooderipaleteiksi.\n"
     ]
    }
   ],
   "source": [
    "# Tulostetaan aihekokonaisuudet\n",
    "for t in range(paras_Mimno_LDA.n_topics):\n",
    "    print(f\"\\n=== Aihe {t+1} ===\")\n",
    "    for i, k in enumerate(topic_nums):\n",
    "        if k == t:\n",
    "            print() # tyhjä rivi osoittamaan, mistä alkaa seuraava dokumenttiyksikkö\n",
    "            virkkeet = splitter.split(korpus[i])\n",
    "            for virke in virkkeet:\n",
    "                print(virke)"
   ]
  }
 ],
 "metadata": {
  "kernelspec": {
   "display_name": "base",
   "language": "python",
   "name": "python3"
  },
  "language_info": {
   "codemirror_mode": {
    "name": "ipython",
    "version": 3
   },
   "file_extension": ".py",
   "mimetype": "text/x-python",
   "name": "python",
   "nbconvert_exporter": "python",
   "pygments_lexer": "ipython3",
   "version": "3.10.12"
  },
  "orig_nbformat": 4
 },
 "nbformat": 4,
 "nbformat_minor": 2
}
